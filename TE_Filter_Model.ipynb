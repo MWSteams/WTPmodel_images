{
  "nbformat": 4,
  "nbformat_minor": 0,
  "metadata": {
    "colab": {
      "name": "TE Filter Model.ipynb",
      "provenance": [],
      "authorship_tag": "ABX9TyNsl4l9EuTBIidpvmO8GxCQ",
      "include_colab_link": true
    },
    "kernelspec": {
      "name": "python3",
      "display_name": "Python 3"
    }
  },
  "cells": [
    {
      "cell_type": "markdown",
      "metadata": {
        "id": "view-in-github",
        "colab_type": "text"
      },
      "source": [
        "<a href=\"https://colab.research.google.com/github/MWSteams/WTPmodel_images/blob/master/TE_Filter_Model.ipynb\" target=\"_parent\"><img src=\"https://colab.research.google.com/assets/colab-badge.svg\" alt=\"Open In Colab\"/></a>"
      ]
    },
    {
      "cell_type": "markdown",
      "metadata": {
        "id": "8qgaQMX7DcMx",
        "colab_type": "text"
      },
      "source": [
        "# TE Filter Model\n",
        "\n",
        "Corrected to eliminate artificial dependencies on London Van der Waals forces that were created by including those forces in multiple dimensionless groups that canceled out.\n",
        "\n",
        "Tufenkji, N. and M. Elimelech (2004). \"Correlation equation for predicting single-collector efficiency in physicochemical filtration in saturated porous media.\"  [Environmental-Science-and-Technology 38(2): 529-536](https://doi.org/10.1021/es034049r)."
      ]
    },
    {
      "cell_type": "markdown",
      "metadata": {
        "id": "q6S0DqIhFOxc",
        "colab_type": "text"
      },
      "source": [
        "# Clean Bed Filtration Model\n",
        "\n",
        "The TE clean bed filtration model is based on Happel sphere-in-cell model of a single collector where the collector represents the sand grain. \n",
        "\n",
        "## Dimensionless groups\n",
        "\n",
        "$$\\Pi_R = \\frac{d_p}{d_c}$$\n",
        "\n",
        "$$\\Pi_z = \\frac{3 (1-\\varepsilon)}{2  \\ln (10)} \\left(\\frac{z}{d_c}\\right)$$\n",
        "\n",
        "$$\\Pi_{Br} = \\frac{k_b  T}{3  \\pi  \\mu  d_p  V_a  d_c}$$\n",
        "\n",
        "$$\\Pi_{{g}} = \\frac{d_p^{2} \\left(\\rho_p-\\rho_w\\right)  g}{18  \\mu  V_a}$$\n",
        "\n",
        "## Porosity effects\n",
        "\n",
        "$$\\gamma:=(1-\\varepsilon)^{\\frac{1}{3}}$$\n",
        "\n",
        "$$A_s:=\\frac{2 \\left(1-\\gamma(\\varepsilon)^{5}\\right)}{2-3  \\gamma(\\varepsilon)+3  \\gamma(\\varepsilon)^{5}-2  \\gamma(\\varepsilon)^{6}}$$\n",
        "\n",
        "## Transport by each mechanism\n",
        "\n",
        "These equations have been modified to remove the artificial dependency introduced by TE. \n",
        "\n",
        "$$\\eta_{Br} = \\frac{3}{4}  {A}_s^{\\frac{1}{3}}  {\\Pi}_{R}^{-\\frac{1}{6}}  {\\Pi}_{Br}^{\\frac{2}{3}}$$\n",
        "\n",
        "$$\\eta_R =\\frac{1}{21.5}  {A}_s  \\Pi_R^{1.425}$$\n",
        "\n",
        "$$\\eta_{g} = 0.31\\Pi_g$$\n",
        "\n",
        "$$\\eta =\\eta_{Br} +\\eta_R +\\eta_g $$\n",
        "\n",
        "## Particle Removal\n",
        "\n",
        "$${pC}_{Br} =\\Pi_z  \\alpha  \\eta_{Br}$$\n",
        "\n",
        "$${pC}_{{R}} ={\\Pi}_{{z}}  \\alpha  \\eta_{{R}}$$\n",
        "\n",
        "$${p} {C}_{{g}} ={\\Pi}_{{z}}  \\alpha  \\eta_{{g}}$$\n",
        "\n",
        "$${pC} ={\\Pi}_{{z}} \\alpha  \\eta$$\n",
        "\n",
        "The TE model includes Brownian motion, sedimentation, and interception. The model includes Van der Waals forces in multiple terms and an analysis of the exponents of those terms reveals that the Van der Waals forces are not a significant contribution to transport. This is as expected because Van der Waals are a potential attachment force and are too weak to be significant at the distances involved in particle transport.\n",
        "\n",
        "The TE model reveals that particles that are larger than a few $\\mu m$ are transported to the sand surfaces by a combination of gravity and interception in clean filters.\n",
        "\n",
        "The TE model doesn't have the diameter of the constriction as parameter and thus is unable to model the effects of clogging. Perhaps porosity could be used to represent clogging, but that is a poor choice because the porosity of a full loaded filter is not significantly lower than the porosity of a clean filter because the volume of deposited particles is only a small fraction of the void volume."
      ]
    },
    {
      "cell_type": "code",
      "metadata": {
        "id": "V1QOP7gGEQDT",
        "colab_type": "code",
        "outputId": "d166efa8-8c45-4740-db0f-51690ebd6c4e",
        "colab": {
          "base_uri": "https://localhost:8080/",
          "height": 238
        }
      },
      "source": [
        "!pip install aguaclara\n"
      ],
      "execution_count": 0,
      "outputs": [
        {
          "output_type": "stream",
          "text": [
            "Requirement already satisfied: aguaclara in /usr/local/lib/python3.6/dist-packages (0.2.3)\n",
            "Requirement already satisfied: pandas in /usr/local/lib/python3.6/dist-packages (from aguaclara) (1.0.4)\n",
            "Requirement already satisfied: matplotlib in /usr/local/lib/python3.6/dist-packages (from aguaclara) (3.2.1)\n",
            "Requirement already satisfied: urllib3 in /usr/local/lib/python3.6/dist-packages (from aguaclara) (1.24.3)\n",
            "Requirement already satisfied: pint in /usr/local/lib/python3.6/dist-packages (from aguaclara) (0.8.1)\n",
            "Requirement already satisfied: scipy in /usr/local/lib/python3.6/dist-packages (from aguaclara) (1.4.1)\n",
            "Requirement already satisfied: pytz>=2017.2 in /usr/local/lib/python3.6/dist-packages (from pandas->aguaclara) (2018.9)\n",
            "Requirement already satisfied: python-dateutil>=2.6.1 in /usr/local/lib/python3.6/dist-packages (from pandas->aguaclara) (2.8.1)\n",
            "Requirement already satisfied: numpy>=1.13.3 in /usr/local/lib/python3.6/dist-packages (from pandas->aguaclara) (1.18.5)\n",
            "Requirement already satisfied: pyparsing!=2.0.4,!=2.1.2,!=2.1.6,>=2.0.1 in /usr/local/lib/python3.6/dist-packages (from matplotlib->aguaclara) (2.4.7)\n",
            "Requirement already satisfied: cycler>=0.10 in /usr/local/lib/python3.6/dist-packages (from matplotlib->aguaclara) (0.10.0)\n",
            "Requirement already satisfied: kiwisolver>=1.0.1 in /usr/local/lib/python3.6/dist-packages (from matplotlib->aguaclara) (1.2.0)\n",
            "Requirement already satisfied: six>=1.5 in /usr/local/lib/python3.6/dist-packages (from python-dateutil>=2.6.1->pandas->aguaclara) (1.12.0)\n"
          ],
          "name": "stdout"
        }
      ]
    },
    {
      "cell_type": "code",
      "metadata": {
        "id": "ApB7bGlKESlq",
        "colab_type": "code",
        "colab": {}
      },
      "source": [
        "import aguaclara as ac\n",
        "from aguaclara.core.units import unit_registry as u\n",
        "import numpy as np\n",
        "import matplotlib.pyplot as plt\n",
        "import matplotlib.ticker as ticker"
      ],
      "execution_count": 0,
      "outputs": []
    },
    {
      "cell_type": "code",
      "metadata": {
        "id": "HulJM7n-vatM",
        "colab_type": "code",
        "colab": {}
      },
      "source": [
        "def logspace(start, stop, num=50):\n",
        "  unit = start.units\n",
        "  stop.ito(start.units)\n",
        "  return np.logspace(np.log10(start.magnitude),np.log10(stop.magnitude),num) * unit\n",
        "\n",
        "@ac.list_handler()\n",
        "def p(x):\n",
        "  return -np.log10(x)\n",
        "\n",
        "D_sand = 0.5 * u.mm\n",
        "v_a = 1.8 * u.mm/u.s\n",
        "Temp = 20 * u.degC \n",
        "z = 20 * u.cm\n",
        "\n",
        "alpha = 1\n",
        "porosity = 0.4\n",
        "\n",
        "# cube center to center distance for pores\n",
        "@ac.list_handler()\n",
        "def Lambda_pore(D_sand, porosity):\n",
        "  return (np.pi/(6 * (1 - porosity)))**(1/3) * D_sand\n",
        "  \n",
        "@ac.list_handler()\n",
        "def Q_pore(v_a,D_sand, porosity):\n",
        "  return (v_a * (Lambda_pore(D_sand, porosity))**2).to(u.uL/u.s)\n",
        "\n",
        "# constriction velocity taken from https://aguaclara.github.io/Textbook/Filtration/Filtration_Theory_and_Future_Work.html#equation-eq-he-filter2\n",
        "v_constriction = 130 * u.mm/u.s\n",
        "D_c = (ac.diam_circle(Q_pore(v_a,D_sand, porosity)/v_constriction)).to(u.um)\n",
        "D_pore = 0.5 * D_sand\n",
        "bacteria = ac.Material('bacteria', 1* u.um, 1005 * u.kg/u.m**3, None)\n",
        "crypto = ac.Material('crypto', 4* u.um, 1005 * u.kg/u.m**3, None)\n",
        "virus = ac.Material('crypto', 0.1* u.um, 1005 * u.kg/u.m**3, None)\n",
        "nanoclay = ac.Material('nanoclay', 0.1* u.um, 2650 * u.kg/u.m**3, None)\n",
        "clay = ac.Material('clay', 5* u.um, 2650 * u.kg/u.m**3, None)"
      ],
      "execution_count": 0,
      "outputs": []
    },
    {
      "cell_type": "code",
      "metadata": {
        "id": "K_eULzZFEoH7",
        "colab_type": "code",
        "colab": {}
      },
      "source": [
        "@ac.list_handler()\n",
        "def Pi_R(D_sand,D_p):\n",
        "  return (D_p/D_sand).to(u.dimensionless)\n",
        "\n",
        "@ac.list_handler()\n",
        "def Pi_z(D_sand,z,porosity):\n",
        "  return (z/D_sand * 3 * (1-porosity)/2/np.log(10)).to(u.dimensionless)\n",
        "\n",
        "@ac.list_handler()\n",
        "def Pi_Br(D_sand,D_p,v_a,Temp):\n",
        "  return (u.boltzmann_constant*Temp/(3*np.pi*ac.viscosity_dynamic_water(Temp)*D_p*v_a*D_sand)).to(u.dimensionless)\n",
        "\n",
        "@ac.list_handler()\n",
        "def Pi_g(D_sand,D_p,v_a,Temp,DIM_FRACTAL,material):\n",
        "  ConcAl = 0 * u.mg/u.L\n",
        "  ConcClay = 1 * u.mg/u.L \n",
        "  coag = ac.PACl\n",
        "  return (D_p**2 *(ac.dens_floc(ConcAl, ConcClay, DIM_FRACTAL, D_p, coag, material, Temp)-ac.density_water(Temp))*u.gravity/(18*ac.viscosity_dynamic_water(Temp)*v_a)).to(u.dimensionless)\n",
        "\n",
        "@ac.list_handler()\n",
        "def Re_p(D_sand,v_a,Temp):\n",
        "  return (v_a * D_sand/ac.viscosity_kinematic_water(Temp)).to(u.dimensionless)\n",
        "\n",
        "@ac.list_handler()\n",
        "def A_s(porosity):\n",
        "  x = (1-porosity)**(1/3)\n",
        "  return 2 * (1-x**5)/(2-3*x + 3*x**5 - 2*x**6)\n",
        "\n",
        "#Transport due to Brownian motion, gravity, and interception\n",
        "\n",
        "@ac.list_handler()\n",
        "def T_Br(D_sand,D_p,v_a,Temp,porosity):\n",
        "  return 3/4 * A_s(porosity)**(1/3) * Pi_R(D_sand,D_p)**(-1/6) * Pi_Br(D_sand,D_p,v_a,Temp)**(2/3)\n",
        "\n",
        "@ac.list_handler()\n",
        "def T_In(D_sand,D_p,porosity):\n",
        "  return 1/21.5 * A_s(porosity) * Pi_R(D_sand,D_p)**1.425\n",
        "\n",
        "@ac.list_handler()\n",
        "def T_g(D_sand,D_p,v_a,Temp,DIM_FRACTAL,material):\n",
        "  return 0.31 * Pi_g(D_sand,D_p,v_a,Temp,DIM_FRACTAL,material)\n",
        "\n",
        "@ac.list_handler()\n",
        "def pC_Br(D_sand,D_p,v_a,z,Temp,porosity,alpha):\n",
        "  return Pi_z(D_sand,z,porosity) * alpha * T_Br(D_sand,D_p,v_a,Temp,porosity)\n",
        "\n",
        "@ac.list_handler()\n",
        "def pC_In(D_sand,D_p,z,porosity,alpha):\n",
        "  return Pi_z(D_sand,z,porosity) * alpha * T_In(D_sand,D_p,porosity)\n",
        "\n",
        "@ac.list_handler()\n",
        "def pC_g(D_sand,D_p,v_a,z,Temp,porosity,alpha,DIM_FRACTAL,material):\n",
        "  return Pi_z(D_sand,z,porosity) * alpha * T_g(D_sand,D_p,v_a,Temp,DIM_FRACTAL,material)\n",
        "\n",
        "@ac.list_handler()\n",
        "def pC_T(D_sand,D_p,v_a,z,Temp,porosity,alpha, DIM_FRACTAL,material):\n",
        "  return Pi_z(D_sand,z,porosity) * alpha * (T_Br(D_sand,D_p,v_a,Temp,porosity)+T_In(D_sand,D_p,porosity)+T_g(D_sand,D_p,v_a,Temp,DIM_FRACTAL,material))\n"
      ],
      "execution_count": 0,
      "outputs": []
    },
    {
      "cell_type": "code",
      "metadata": {
        "id": "DpwMqsq9jJQ3",
        "colab_type": "code",
        "outputId": "72e28352-c9b4-42f0-8a11-eb475c5bc4da",
        "colab": {
          "base_uri": "https://localhost:8080/",
          "height": 283
        }
      },
      "source": [
        "material = nanoclay\n",
        "D_p_max = 100 * u.um\n",
        "DIM_FRACTAL = 3\n",
        "n = 50\n",
        "D_p = logspace(material.Diameter,D_p_max,n) \n",
        "plt.plot(D_p,pC_Br(D_sand,D_p,v_a,z,Temp,porosity,alpha))\n",
        "plt.plot(D_p,pC_In(D_sand,D_p,z,porosity,alpha))\n",
        "plt.plot(D_p,pC_g(D_sand,D_p,v_a,z,Temp,porosity,alpha,DIM_FRACTAL,material))\n",
        "plt.plot(D_p,pC_T(D_sand,D_p,v_a,z,Temp,porosity,alpha,DIM_FRACTAL,material),'k')\n",
        "plt.xscale(\"log\")\n",
        "plt.yscale(\"log\")\n",
        "plt.legend(['Brownian','Interception','Gravity','Total'])\n",
        "plt.ylim(ymin=0.1,ymax=20)\n",
        "plt.xlim(xmin=0.1,xmax=50)\n",
        "plt.grid(which='both',axis='both')\n",
        "plt.ylabel('pC*')\n",
        "plt.xlabel(r'Particle diameter ($\\mu m$)')\n",
        "plt.gca().yaxis.set_major_formatter(ticker.StrMethodFormatter(\"{x}\"))\n",
        "plt.gca().xaxis.set_major_formatter(ticker.StrMethodFormatter(\"{x}\"))\n",
        "plt.show()"
      ],
      "execution_count": 0,
      "outputs": [
        {
          "output_type": "display_data",
          "data": {
            "image/png": "[encoded data removed]",
            "text/plain": [
              "<Figure size 432x288 with 1 Axes>"
            ]
          },
          "metadata": {
            "tags": [],
            "needs_background": "light"
          }
        }
      ]
    },
    {
      "cell_type": "markdown",
      "metadata": {
        "id": "Qa1a25CsoQWE",
        "colab_type": "text"
      },
      "source": [
        "For solid silica particles greater than about 1 $\\mu m$ the dominant transport mechanism is sedimentation (see below).\n",
        "![alt text](https://github.com/MWSteams/WTPmodel_images/raw/master/TE_silica_fractal3.png)\n",
        "\n",
        "Figure 1. TE model with silica particles over a range of sizes all with a density of 2650 $\\frac{kg}{m^3}$. The filter was 20 cm deep with 0.5 mm diameter sand and a filtration velocity of 1.8 mm/s and a water temperature of 20$^\\circ$.\n",
        "\n",
        "For solid organic particles (not fractals) greater than about 1 $\\mu m$ the dominant transport mechanism is interception (see below).\n",
        "\n",
        "![alt text](https://github.com/MWSteams/WTPmodel_images/raw/master/TE_organic_fractal3.png)\n",
        "\n",
        "Figure 2. TE model with organic particles over a range of sizes all with a density of 1005 $\\frac{kg}{m^3}$. The filter was 20 cm deep with 0.5 mm diameter sand and a filtration velocity of 1.8 mm/s and a water temperature of 20$^\\circ$.\n",
        "\n",
        "For fractal flocs (fractal dimension of 2.3) made of 5 $\\mu m$ clay the dominant transport mechanism is gravity with interception also significant (see below). If the fractal dimension of the flocs is lower than 2.3 based on collisions of similar sized flocs in the flocculator, then the role of gravity is further reduced. \n",
        "\n",
        "\n",
        "![alt text](https://github.com/MWSteams/WTPmodel_images/raw/master/TE_silica_fractal23.png)\n",
        "\n",
        "Figure 3. TE model with clay flocs over a range of sizes with a fractal dimension of 2.3. The filter was 20 cm deep with 0.5 mm diameter sand and a filtration velocity of 1.8 mm/s and a water temperature of 20$^\\circ$.\n",
        "\n",
        "The dominant transport mechanism for flocs that are less dense than clay flocs will be interception. Interception also will become more effective as the constrictions in the filter pores grow smaller. Thus interception is the dominant mechanisms for depth filters after the first layer of constrictions forms.\n",
        "\n",
        "The next step is to create a filter model that can predict particle capture as particles are deposited in the pore constrictions and the constrictions become smaller. \n",
        "\n",
        "\n",
        "\n",
        "\n"
      ]
    },
    {
      "cell_type": "markdown",
      "metadata": {
        "id": "PuySXUOjiHu-",
        "colab_type": "text"
      },
      "source": [
        "# Constricted Pore Model\n",
        "\n",
        "## Nomenclature\n",
        "$D_p$: diameter of particle\n",
        "\n",
        "$D_{sand}$: diameter of sand grain\n",
        "\n",
        "$D_c$:  diameter of constriction\n",
        "\n",
        "$D_{c_{full}}$:  diameter of filled  constriction\n",
        "\n",
        "$D_{c_{clean}}$:  diameter of clean constriction\n",
        "\n",
        "$C_{pore}^\\ast$ fraction of particles that remain after passing through a pore\n",
        "\n",
        "The constricted pore model more closely approximates the constriction geometry from the perspective of the fluid than the collector model. The constriction geometry determines the volume of particles that can be captured by a pore. The fluid drag on particles that collide with the constriction determine whether those particles attach or are pushed deeper into the filter. The diameter of the constriction determines the head loss through the pore. The geometry of the constriction determines the fluid streamlines and the development of the boundary layer. A sharp edged constriction caused the boundary layer to begin at the sharp edge and thus the contraction approaches uniform velocity. The more gradual rounding of the sand grains that form the clean bed constriction have a fully developed boundary layer that results in a parabolic velocity profile. \n",
        "\n",
        "Particles are carried by the flow and intercept the constriction surface because the flow compression moves the particles closer to the wall. \n",
        "\n",
        "<img src=\"https://github.com/MWSteams/WTPmodel_images/raw/master/Constriction.png\" alt=\"constriction\" width=\"200\"/>\n",
        "\n",
        "Figure 4. Flow constriction showing constriction diameter and particle diameter.\n",
        "\n",
        "The velocity profile has a substantial influence on the particle capture efficiency of a constriction. If the boundary layer is fully developed, then the flow through the annulus where particles collide with the wall is reduced due to the effects of viscosity. If the boundary layer hasn't begun to develop then the flow through the annulus of particle capture is much higher. We will first develop the equations for the simple case of no fluid boundary layer for a sharp constriction. If the velocity is uniform through the constriction then particles with their centers anywhere in the annulus will collide with the constriction.\n",
        "\n",
        "## Uniform Velocity Profile\n",
        "\n",
        "For the case of uniform velocity, the fraction of particles that escape capture through a pore is given by a ratio of the areas multipied by the attachment efficiency, $\\alpha$.\n",
        "\n",
        "![alt text](https://github.com/MWSteams/WTPmodel_images/raw/master/annulus.png) ![alt text](https://github.com/MWSteams/WTPmodel_images/raw/master/geometric_fraction_remaining.png) \n",
        "\n",
        "Figure 5. Particles with their center anywhere in the blue annulus will strike the wall of the constricion. The fraction of particles that pass through a single pore without colliding with the constriction wall is given by the ratio of the two areas. The failure to attach results in more of the particles in the purple ring passing through the constriction.\n",
        "\n",
        "$$C_{pore}^{\\ast_{U}} = \\left( \\frac{D_c - D_p}{D_c} \\right)^2 + (1-\\alpha)\\left( 1-\\left( \\frac{D_c - D_p}{D_c} \\right)^2 \\right)$$\n",
        "\n",
        "Simplify\n",
        "\n",
        "$$C_{pore}^{\\ast_{U}} = \\left( \\frac{D_c - D_p}{D_c} \\right)^2 + \\left( 1-\\left( \\frac{D_c - D_p}{D_c} \\right)^2 \\right) -\\alpha\\left( 1-\\left( \\frac{D_c - D_p}{D_c} \\right)^2 \\right)$$\n",
        "\n",
        "More\n",
        "\n",
        "$$C_{pore}^{\\ast_{U}} = 1 -\\alpha\\left[ 1-\\left( \\frac{D_c - D_p}{D_c} \\right)^2 \\right]$$\n",
        "\n",
        "Define a dimensionless parameter for the diameter ratio\n",
        "\n",
        "$$\\Pi_D  = \\frac{D_p}{D_c}$$\n",
        "\n",
        "Substitute in to get a dimensionless equation\n",
        "\n",
        "$$C_{pore}^{\\ast_{U}} = 1 -\\alpha\\left[ 1-\\left( 1- \\Pi_D \\right)^2 \\right]$$\n",
        "\n",
        "$$C_{pore}^{\\ast_{U}} = 1 -\\alpha\\left( 2\\Pi_D - \\Pi_D^2 \\right)$$\n",
        "\n",
        "$$C_{pore}^{\\ast_{U}} = 1 - 2 \\alpha \\Pi_D + \\alpha \\Pi_D^2 $$\n",
        "\n",
        "The fraction of particles that escape capture through n pores in series is simply\n",
        "\n",
        "\n",
        "$$C_{filter}^{\\ast_{U}} = \\left( C_{pore}^{\\ast_{U}}\\right)^{n_{pore}}$$\n",
        "\n",
        "We need a method to calculate the number of constrictions in a path through a filter. The number of pores is assumed to be the same as the number of sand grains. Thus the pore and sand spacing are equal: $\\Lambda_{sand} = \\Lambda_{pore}$. The sand grain is treated as a sphere and then the pore volume is added to the sphere volume to obtain the volume of the sand bed that is occupied by one pore. The spacing of the pores is then taken as the length of the side of the cube occupied by a grain of sand and its corresponding pore. The $\\Lambda_{pore}^3$ is simply the volume occupied by a sand grain and its pore. The total volume is the sand volume divided by the sand fraction, $1-\\phi$ where $\\phi$ is the porosity or the pore fraction.\n",
        "\n",
        "$$\\Lambda_{pore}^3 = \\left(\\frac{1}{1-\\phi} \\right) \\frac{\\pi}{6}D_{sand}^3$$\n",
        "\n",
        "$$\\Lambda_{pore} = \\left(\\frac{\\pi}{6(1-\\phi)} \\right)^\\frac{1}{3}D_{sand}$$\n",
        "\n",
        "The number of pores in the filter in a vertical path is\n",
        "\n",
        "$$n_{pore} = \\frac{z}{\\Lambda_{pore}} $$\n",
        "\n",
        "The fraction of influent particles that remain after passing through the entire filter is a simple calculation based on the constriction and particle diameters. If a particle size distribution is known and the constriction size is known for each pore, then the fraction of particles remaining could easily be calculated. \n",
        "\n",
        "## Fully Developed Boundary Layer\n",
        "\n",
        "The flow rate for a pore is \n",
        "\n",
        "$$ Q_{pore} = v_a \\Lambda_{pore}^2 $$ \n",
        "\n",
        "The area of a constriction can be calculated based on the head loss through a fully loaded filter. The head loss per pore can estimated from the number of pores in series. The clean bed head loss can be subtracted from the total head loss to obtain the head loss due to the constrictions. The constriction head loss is caused by a flow expansion and thus the flow expansion head loss equation can be used to determine the velocity in the contraction. \n",
        "\n",
        "$$ A_{constriction_{min}} = \\frac{Q_{pore}}{v_{constriction}} $$\n",
        "\n",
        "For a clean filter bed the flow through the constriction formed by sand grains is based on a parabolic velocity profile.\n",
        "\n",
        "$$v=\\frac{r^{2}-R^{2}}{4 \\mu} \\frac{d p}{d x}$$\n",
        "\n",
        "We can eliminate the dependence on the pressure gradient by noting that the average velocity is 1/2 the maximum velocity for a parabolic velocity profile.\n",
        "\n",
        "$$\\bar v =-\\frac{R^{2}}{8 \\mu} \\frac{d p}{d x}$$\n",
        "\n",
        "Solve for $\\frac{d p}{d x}$\n",
        "\n",
        "$$ -\\frac{8 \\bar v \\mu}{R^{2}} =\\frac{d p}{d x}$$\n",
        "\n",
        "Substitute into the equation for velocity as a function of r\n",
        "\n",
        "$$ v = 2 \\bar v \\left(1-\\frac{r^{2}}{R^{2}}\\right) $$\n",
        "\n",
        "Now we need to integrate $2\\pi r v$ from $r = 0$ to $r = \\frac{1}{2}(D_c-D_p)$ to obtain the flow rate through the center of the constriction carrying the particles that don't collide with the constriction surfaces, $\\bar Q_{core}$.\n",
        "\n",
        "$$ Q_{core} = 2 \\pi \\int_{0}^{\\frac{1}{2}(D_c-D_p)}v  r dr $$\n",
        "\n",
        "Substitute the equation for the velocity as a function of r.\n",
        "\n",
        "$$ Q_{core} = 4 \\bar v \\pi \\int_{0}^{\\frac{1}{2}(D_c-D_p)} \\left(1-\\frac{r^{2}}{R^{2}}\\right)r dr $$\n",
        "\n",
        "Integrate.\n",
        "\n",
        "$$ Q_{core} = 4 \\bar v \\pi \\bigg\\rvert_{0}^{\\frac{1}{2}(D_c-D_p)} r^2\\left( \\frac{1}{2} - \\frac{r^{2}}{4R^{2}}\\right)  $$\n",
        "\n",
        "Apply the limits of integration and substitue $R = \\frac{D_c}{2}$.\n",
        "\n",
        "$$ Q_{core} = 4 \\bar v \\pi  \\left(\\frac{1}{2}(D_c-D_p)\\right)^2\\left( \\frac{1}{2} - \\frac{\\left(\\frac{1}{2}(D_c-D_p)\\right)^{2}}{4\\left(\\frac{D_c}{2}\\right)^{2}}\\right)  $$\n",
        "\n",
        "$$ Q_{core} = \\bar v \\pi  \\left((D_c-D_p)\\right)^2\\left( \\frac{1}{2} - \\frac{\\left((D_c-D_p)\\right)^{2}}{4D_c^{2}}\\right)  $$\n",
        "\n",
        "as before\n",
        "\n",
        "$$ Q_{core} = \\bar v \\frac{\\pi}{4} (D_c-D_p)^2\\left[ 2 - \\left(\\frac{D_c-D_p}{D_c}\\right)^{2}\\right] $$\n",
        "\n",
        "We want to know what fraction of the fluid that goes through a constriction ends up flowing through the core. The total flow through the constriction is\n",
        "\n",
        "$$ Q_{c} = \\bar v  \\frac{\\pi}{4}D_c^2 $$\n",
        "\n",
        "Take the ratio of the core flow to the total constriction flow to obtain the fraction of the flow going through the central core.  \n",
        "\n",
        "$$ \\Pi_{Q_{core}}^{\\ast_{BL}} =  \\left(\\frac{D_c-D_p}{D_c}\\right)^{2} \\left[ 2 - \\left(\\frac{D_c-D_p}{D_c}\\right)^{2}\\right] $$\n",
        "\n",
        "Substitute the diameter ratio\n",
        "\n",
        "$$ \\Pi_{Q_{core}}^{\\ast_{BL}} =  \\left(1 - \\Pi_D\\right)^{2} \\left[ 1 + 2\\Pi_D - \\Pi_D^2\\right] $$\n",
        "\n",
        "Multiply $1-\\Pi_{Q_{core}}^{\\ast_{BL}}$ by $1-\\alpha$ to obtain the fraction of particles that weren't in the core flow that don't attach and then add that to the core flow to obtain the total fraction that pass through the pore.\n",
        "\n",
        "$$C_{pore}^{\\ast_{BL}} = \\left(1-\\Pi_{Q_{core}}^{\\ast_{BL}}\\right) \\left(1-\\alpha\\right) + \\Pi_{Q_{core}}^{\\ast_{BL}}$$\n",
        "\n",
        "When a particle attaches to the constriction it experiences a shear or drag force from the fluid and based on the new pore geometry. If the resulting force exceeds the bond strength, then the floc moves on and continues deeper into the filter. \n",
        "\n",
        "The pores in series are assumed to have complete mixing between pores. This redistribution of the particles is assumed to occur in transition between pores or in the flow expansion.\n",
        "\n",
        "The fraction of particles that make it through a series of n pores in a filter is\n",
        "\n",
        "$$ C_{filter}^{\\ast_{BL}} = \\left[\\left(1-\\Pi_{Q_{core}}^{\\ast_{BL}}\\right) \\left(1-\\alpha\\right) + \\Pi_{Q_{core}}^{\\ast_{BL}}\\right]^n $$\n",
        "\n"
      ]
    },
    {
      "cell_type": "code",
      "metadata": {
        "id": "QQvqApm5-H6C",
        "colab_type": "code",
        "colab": {}
      },
      "source": [
        "# number of constrictions the water flows through as it travels through length z of the sand bed\n",
        "@ac.list_handler()\n",
        "def N_constrictions(z, D_sand, porosity):\n",
        "  return (z/Lambda_pore(D_sand, porosity)).to(u.dimensionless)\n",
        "\n",
        "# fraction remaining after passing through a single pore with uniform velocity\n",
        "@ac.list_handler()\n",
        "def C_pore_uniform(D_c,D_p,porosity,alpha):\n",
        "  return  1-alpha*(1-((D_c - D_p)/D_c)**2)\n",
        "# ((D_c**2 - 2*alpha*D_p*D_c + alpha *D_p**2)/D_c**2)\n",
        "\n",
        "# fraction remaining after passing through a filter with uniform velocity in the pores\n",
        "@ac.list_handler()\n",
        "def C_filter_uniform(D_sand,D_c,D_p,z,porosity,alpha):\n",
        "  return C_pore_uniform(D_c,D_p,porosity,alpha)**N_constrictions(z,D_sand, porosity)\n",
        "\n",
        "# ratio of flow through the core in boundary layer flow\n",
        "@ac.list_handler()\n",
        "def Ratio_core_bl(D_c,D_p):\n",
        "  x = ((D_c - D_p)/D_c)**2\n",
        "  return x * (2-x)\n",
        "\n",
        "# fraction remaining after passing through a single pore with fully developed boundary layer\n",
        "@ac.list_handler()\n",
        "def C_pore_bl(D_sand,D_c,D_p,z,porosity,alpha):\n",
        "  R = Ratio_core_bl(D_c,D_p)\n",
        "  return (1-R)*(1-alpha) + R\n",
        "\n",
        "# fraction remaining after passing through a filter with fully developed boundary layer in the pores\n",
        "@ac.list_handler()\n",
        "def C_filter_bl(D_sand,D_c,D_p,z,porosity,alpha):\n",
        "  return (C_pore_bl(D_sand,D_c,D_p,z,porosity,alpha))**N_constrictions(z,D_sand, porosity)"
      ],
      "execution_count": 0,
      "outputs": []
    },
    {
      "cell_type": "code",
      "metadata": {
        "id": "qb8yEzshTVkH",
        "colab_type": "code",
        "outputId": "73336f60-5064-4713-aa25-2d1178463034",
        "colab": {
          "base_uri": "https://localhost:8080/",
          "height": 423
        }
      },
      "source": [
        "def plot_FM(D_sand,D_c,D_p,v_a,z,z_active,Temp,porosity,alpha,DIM_FRACTAL,material):\n",
        "  plt.plot(D_p,pC_In(D_sand,D_p,z,porosity,alpha))\n",
        "  plt.plot(D_p,p(C_filter_bl(D_sand,D_c,D_p,z_active,porosity,alpha)))\n",
        "  plt.plot(D_p,p(C_filter_uniform(D_sand,D_c,D_p,z_active,porosity,alpha)))\n",
        "  plt.xscale(\"log\")\n",
        "  plt.yscale(\"log\")\n",
        "  plt.legend(['TE','boundar layer','uniform'])\n",
        "  plt.ylim(ymin=0.1,ymax=100)\n",
        "  plt.xlim(xmin=material.Diameter.to(u.um).magnitude,xmax=D_c.to(u.um).magnitude)\n",
        "  plt.grid(which='both',axis='both')\n",
        "  plt.ylabel('pC*')\n",
        "  plt.xlabel(r'Particle diameter ($\\mu m$)')\n",
        "  plt.gca().yaxis.set_major_formatter(ticker.StrMethodFormatter(\"{x}\"))\n",
        "  plt.gca().xaxis.set_major_formatter(ticker.StrMethodFormatter(\"{x}\"))\n",
        "  plt.show()\n",
        "\n",
        "\n",
        "D_p_max = D_pore\n",
        "n = 500\n",
        "D_p = logspace(material.Diameter,D_p_max,n) \n",
        "z_active = z\n",
        "# Lambda_pore(D_sand, porosity) * 10\n",
        "\n",
        "plot_FM(D_sand,D_pore,D_p,v_a,z,z_active,Temp,porosity,alpha,2.3,ac.Clay)"
      ],
      "execution_count": 0,
      "outputs": [
        {
          "output_type": "stream",
          "text": [
            "/usr/local/lib/python3.6/dist-packages/ipykernel_launcher.py:8: RuntimeWarning: divide by zero encountered in log10\n",
            "  \n",
            "/usr/local/lib/python3.6/dist-packages/pint/quantity.py:1403: RuntimeWarning: divide by zero encountered in log10\n",
            "  out = uf(*mobjs)\n",
            "/usr/local/lib/python3.6/dist-packages/ipykernel_launcher.py:8: RuntimeWarning: divide by zero encountered in log10\n",
            "  \n",
            "/usr/local/lib/python3.6/dist-packages/pint/quantity.py:1403: RuntimeWarning: divide by zero encountered in log10\n",
            "  out = uf(*mobjs)\n"
          ],
          "name": "stderr"
        },
        {
          "output_type": "display_data",
          "data": {
            "image/png": "[encoded data removed]",
            "text/plain": [
              "<Figure size 432x288 with 1 Axes>"
            ]
          },
          "metadata": {
            "tags": [],
            "needs_background": "light"
          }
        }
      ]
    },
    {
      "cell_type": "code",
      "metadata": {
        "id": "yB-HmOF_aPw0",
        "colab_type": "code",
        "outputId": "6bc34d0a-7c68-4e90-c7ba-3fa50c6a065f",
        "colab": {
          "base_uri": "https://localhost:8080/",
          "height": 290
        }
      },
      "source": [
        "z_active = Lambda_pore(D_sand, porosity) * 10\n",
        "alpha = 1\n",
        "D_p = logspace(material.Diameter,D_c*0.999999,n) \n",
        "plot_FM(D_sand,D_c,D_p,v_a,z,z_active,Temp,porosity,alpha,2.3,ac.Clay)"
      ],
      "execution_count": 0,
      "outputs": [
        {
          "output_type": "display_data",
          "data": {
            "image/png": "[encoded data removed]",
            "text/plain": [
              "<Figure size 432x288 with 1 Axes>"
            ]
          },
          "metadata": {
            "tags": [],
            "needs_background": "light"
          }
        }
      ]
    },
    {
      "cell_type": "markdown",
      "metadata": {
        "id": "uqrs5syAQdWu",
        "colab_type": "text"
      },
      "source": [
        "# Comparison of the three interception models\n",
        "\n",
        "For a clean bed the boundary layer is expected to be fully developed at each constriction. The TE model and the fully developed boundary layer constriction models provide identifical predictions for clay particles. The constriction model predicts higher removal efficiency than the TE model for flocs of larger diameter. This is likely because the TE model didn't account for the constriction diameter. \n",
        "\n",
        "The uniform velocity model predicts extremely efficent particle capture because the velocity near the sand grain surfaces is equal to the average velocity and the effects of viscosity are neglected.\n",
        "\n",
        "![alt text](https://github.com/MWSteams/WTPmodel_images/raw/master/Interception_clean_bed.png)\n",
        "\n",
        "Figure 6. Clean bed filtration with the constriction size set to 0.5 of the sand diameter.\n",
        "\n",
        "The constrictions "
      ]
    },
    {
      "cell_type": "code",
      "metadata": {
        "id": "yFgaMT066cxR",
        "colab_type": "code",
        "outputId": "0ded58a2-5121-48f2-eee6-e2d772eb4791",
        "colab": {
          "base_uri": "https://localhost:8080/",
          "height": 51
        }
      },
      "source": [
        "y_C_bl = (C_filter_bl(D_sand,D_c,0.001*D_c,z_active,porosity,alpha))\n",
        "y_C_uniform = (C_filter_uniform(D_sand,D_c,0.001*D_c,z_active,porosity,alpha))\n",
        "\n",
        "print(y_C_bl/y_C_uniform)\n",
        "print(y_C_uniform)"
      ],
      "execution_count": 0,
      "outputs": [
        {
          "output_type": "stream",
          "text": [
            "1.02 dimensionless\n",
            "0.9802 dimensionless\n"
          ],
          "name": "stdout"
        }
      ]
    },
    {
      "cell_type": "code",
      "metadata": {
        "id": "k74GzdSDTiN7",
        "colab_type": "code",
        "outputId": "5c1dcd85-1a10-4556-9274-5f60a90bc12b",
        "colab": {
          "base_uri": "https://localhost:8080/",
          "height": 51
        }
      },
      "source": [
        "ConcAl = 0 * u.mg/u.L\n",
        "ConcClay = 50 * u.NTU\n",
        "DIM_FRACTAL = 2.3\n",
        "D_p = 0.5 * u.mm\n",
        "coag = ac.PACl\n",
        "material = ac.Clay\n",
        "temp = 20 * u.degC\n",
        "Floc_density = ac.dens_floc(ConcAl, ConcClay, DIM_FRACTAL, D_p, coag, material, Temp)\n",
        "print(Floc_density.magnitude)\n",
        "Fg = ((Floc_density - ac.density_water(temp))*u.gravity * D_p**3 * np.pi/6).to(u.nN)\n",
        "print('The force is',Fg)"
      ],
      "execution_count": 0,
      "outputs": [
        {
          "output_type": "stream",
          "text": [
            "1081.423712798733\n",
            "The force is 53.42 nanonewton\n"
          ],
          "name": "stdout"
        }
      ]
    },
    {
      "cell_type": "markdown",
      "metadata": {
        "id": "6wJz66-xqpHw",
        "colab_type": "text"
      },
      "source": [
        "# Drag on a clay particle\n",
        "\n",
        "The drag on one side of a flat plate under conditions of laminar flow is\n",
        "$$F_{d}=0.664 w \\sqrt{\\mu \\rho U^{3} l}$$\n",
        "\n",
        "We can approximate drag on a round plate (very rough estimate) as\n",
        "\n",
        "$$F_{d}=0.664 \\sqrt{\\mu \\rho (vd)^{3}}$$\n",
        "\n",
        "This analysis suggests a chemical bond strength that is order 0.5 nN.\n"
      ]
    },
    {
      "cell_type": "code",
      "metadata": {
        "id": "n5ZIOc1gwt8q",
        "colab_type": "code",
        "outputId": "e55655af-c40a-4751-d6ce-f05d0e898d84",
        "colab": {
          "base_uri": "https://localhost:8080/",
          "height": 34
        }
      },
      "source": [
        "F_drag_clay = (0.664 * np.sqrt(ac.viscosity_dynamic_water(temp) * ac.density_water(temp)*(v_constriction * ac.Clay.Diameter)**(3))).to(u.nN)\n",
        "print(F_drag_clay)"
      ],
      "execution_count": 0,
      "outputs": [
        {
          "output_type": "stream",
          "text": [
            "0.5764 nanonewton\n"
          ],
          "name": "stdout"
        }
      ]
    },
    {
      "cell_type": "markdown",
      "metadata": {
        "id": "_IdmOfuT4CE_",
        "colab_type": "text"
      },
      "source": [
        "#References\n",
        "Tufenkji, N. and M. Elimelech (2004). \"Correlation equation for predicting single-collector efficiency in physicochemical filtration in saturated porous media.\" Environmental-Science-and-Technology 38(2): 529-536."
      ]
    },
    {
      "cell_type": "code",
      "metadata": {
        "id": "PnO5lkc3F9_0",
        "colab_type": "code",
        "outputId": "61fbb86c-573b-4882-da5c-8a4ac83e3976",
        "colab": {
          "base_uri": "https://localhost:8080/",
          "height": 34
        }
      },
      "source": [
        "EnergyDis = 10 * u.mW/u.kg\n",
        "Temp = 20*u.degC\n",
        "Time = 8 * u.min\n",
        "DiamTube = 10 * u.inch\n",
        "ConcClay = 100 * u.NTU\n",
        "ConcAl = 1.2 * u.mg/u.L\n",
        "ConcNatOrgMat = 15 * u.mg/u.L\n",
        "NatOrgMat = ac.HumicAcid\n",
        "coag = ac.PACl\n",
        "material = ac.Clay\n",
        "FittingParam = 0.05\n",
        "RatioHeightDiameter = 0.2\n",
        "\n",
        "\n",
        "\n",
        "x = ac.pc_viscous(EnergyDis, Temp, Time, DiamTube, ConcClay, ConcAl, ConcNatOrgMat, NatOrgMat, coag, material, FittingParam, RatioHeightDiameter)\n",
        "print(x)"
      ],
      "execution_count": 0,
      "outputs": [
        {
          "output_type": "stream",
          "text": [
            "0.4957 dimensionless\n"
          ],
          "name": "stdout"
        }
      ]
    },
    {
      "cell_type": "code",
      "metadata": {
        "id": "ZeugJIgVAs1K",
        "colab_type": "code",
        "outputId": "7bea8d2b-e9a2-49db-843c-c6f34242d6c5",
        "colab": {
          "base_uri": "https://localhost:8080/",
          "height": 34
        }
      },
      "source": [
        "print(ac.p(0.01))"
      ],
      "execution_count": 0,
      "outputs": [
        {
          "output_type": "stream",
          "text": [
            "2.0\n"
          ],
          "name": "stdout"
        }
      ]
    },
    {
      "cell_type": "code",
      "metadata": {
        "id": "c4ZWn2eXwjFV",
        "colab_type": "code",
        "colab": {}
      },
      "source": [
        ""
      ],
      "execution_count": 0,
      "outputs": []
    }
  ]
}